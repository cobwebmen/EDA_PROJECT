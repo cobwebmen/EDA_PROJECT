{
  "nbformat": 4,
  "nbformat_minor": 0,
  "metadata": {
    "colab": {
      "name": "EDA_IPL_Data.ipynb",
      "provenance": [],
      "collapsed_sections": []
    },
    "kernelspec": {
      "name": "python3",
      "display_name": "Python 3"
    },
    "language_info": {
      "name": "python"
    }
  },
  "cells": [
    {
      "cell_type": "code",
      "metadata": {
        "id": "fgahJprLTf71"
      },
      "source": [
        "import seaborn as sns\n",
        "import numpy as np\n",
        "import pandas as pd\n",
        "import matplotlib.pyplot as plt\n",
        "%matplotlib inline"
      ],
      "execution_count": 83,
      "outputs": []
    },
    {
      "cell_type": "code",
      "metadata": {
        "id": "Fr8TyXUDacLN"
      },
      "source": [
        "#Load ipl data\n",
        "ipl=pd.read_csv(\"matches.csv\")"
      ],
      "execution_count": 4,
      "outputs": []
    },
    {
      "cell_type": "code",
      "metadata": {
        "colab": {
          "base_uri": "https://localhost:8080/",
          "height": 385
        },
        "id": "nmZ7VKAwai5o",
        "outputId": "5158942a-1552-46eb-a3fe-9df2eb126eb4"
      },
      "source": [
        "#first five records\n",
        "ipl.head()"
      ],
      "execution_count": 5,
      "outputs": [
        {
          "output_type": "execute_result",
          "data": {
            "text/html": [
              "<div>\n",
              "<style scoped>\n",
              "    .dataframe tbody tr th:only-of-type {\n",
              "        vertical-align: middle;\n",
              "    }\n",
              "\n",
              "    .dataframe tbody tr th {\n",
              "        vertical-align: top;\n",
              "    }\n",
              "\n",
              "    .dataframe thead th {\n",
              "        text-align: right;\n",
              "    }\n",
              "</style>\n",
              "<table border=\"1\" class=\"dataframe\">\n",
              "  <thead>\n",
              "    <tr style=\"text-align: right;\">\n",
              "      <th></th>\n",
              "      <th>id</th>\n",
              "      <th>season</th>\n",
              "      <th>city</th>\n",
              "      <th>date</th>\n",
              "      <th>team1</th>\n",
              "      <th>team2</th>\n",
              "      <th>toss_winner</th>\n",
              "      <th>toss_decision</th>\n",
              "      <th>result</th>\n",
              "      <th>dl_applied</th>\n",
              "      <th>winner</th>\n",
              "      <th>win_by_runs</th>\n",
              "      <th>win_by_wickets</th>\n",
              "      <th>player_of_match</th>\n",
              "      <th>venue</th>\n",
              "      <th>umpire1</th>\n",
              "      <th>umpire2</th>\n",
              "      <th>umpire3</th>\n",
              "    </tr>\n",
              "  </thead>\n",
              "  <tbody>\n",
              "    <tr>\n",
              "      <th>0</th>\n",
              "      <td>1</td>\n",
              "      <td>2017</td>\n",
              "      <td>Hyderabad</td>\n",
              "      <td>2017-04-05</td>\n",
              "      <td>Sunrisers Hyderabad</td>\n",
              "      <td>Royal Challengers Bangalore</td>\n",
              "      <td>Royal Challengers Bangalore</td>\n",
              "      <td>field</td>\n",
              "      <td>normal</td>\n",
              "      <td>0</td>\n",
              "      <td>Sunrisers Hyderabad</td>\n",
              "      <td>35</td>\n",
              "      <td>0</td>\n",
              "      <td>Yuvraj Singh</td>\n",
              "      <td>Rajiv Gandhi International Stadium, Uppal</td>\n",
              "      <td>AY Dandekar</td>\n",
              "      <td>NJ Llong</td>\n",
              "      <td>NaN</td>\n",
              "    </tr>\n",
              "    <tr>\n",
              "      <th>1</th>\n",
              "      <td>2</td>\n",
              "      <td>2017</td>\n",
              "      <td>Pune</td>\n",
              "      <td>2017-04-06</td>\n",
              "      <td>Mumbai Indians</td>\n",
              "      <td>Rising Pune Supergiant</td>\n",
              "      <td>Rising Pune Supergiant</td>\n",
              "      <td>field</td>\n",
              "      <td>normal</td>\n",
              "      <td>0</td>\n",
              "      <td>Rising Pune Supergiant</td>\n",
              "      <td>0</td>\n",
              "      <td>7</td>\n",
              "      <td>SPD Smith</td>\n",
              "      <td>Maharashtra Cricket Association Stadium</td>\n",
              "      <td>A Nand Kishore</td>\n",
              "      <td>S Ravi</td>\n",
              "      <td>NaN</td>\n",
              "    </tr>\n",
              "    <tr>\n",
              "      <th>2</th>\n",
              "      <td>3</td>\n",
              "      <td>2017</td>\n",
              "      <td>Rajkot</td>\n",
              "      <td>2017-04-07</td>\n",
              "      <td>Gujarat Lions</td>\n",
              "      <td>Kolkata Knight Riders</td>\n",
              "      <td>Kolkata Knight Riders</td>\n",
              "      <td>field</td>\n",
              "      <td>normal</td>\n",
              "      <td>0</td>\n",
              "      <td>Kolkata Knight Riders</td>\n",
              "      <td>0</td>\n",
              "      <td>10</td>\n",
              "      <td>CA Lynn</td>\n",
              "      <td>Saurashtra Cricket Association Stadium</td>\n",
              "      <td>Nitin Menon</td>\n",
              "      <td>CK Nandan</td>\n",
              "      <td>NaN</td>\n",
              "    </tr>\n",
              "    <tr>\n",
              "      <th>3</th>\n",
              "      <td>4</td>\n",
              "      <td>2017</td>\n",
              "      <td>Indore</td>\n",
              "      <td>2017-04-08</td>\n",
              "      <td>Rising Pune Supergiant</td>\n",
              "      <td>Kings XI Punjab</td>\n",
              "      <td>Kings XI Punjab</td>\n",
              "      <td>field</td>\n",
              "      <td>normal</td>\n",
              "      <td>0</td>\n",
              "      <td>Kings XI Punjab</td>\n",
              "      <td>0</td>\n",
              "      <td>6</td>\n",
              "      <td>GJ Maxwell</td>\n",
              "      <td>Holkar Cricket Stadium</td>\n",
              "      <td>AK Chaudhary</td>\n",
              "      <td>C Shamshuddin</td>\n",
              "      <td>NaN</td>\n",
              "    </tr>\n",
              "    <tr>\n",
              "      <th>4</th>\n",
              "      <td>5</td>\n",
              "      <td>2017</td>\n",
              "      <td>Bangalore</td>\n",
              "      <td>2017-04-08</td>\n",
              "      <td>Royal Challengers Bangalore</td>\n",
              "      <td>Delhi Daredevils</td>\n",
              "      <td>Royal Challengers Bangalore</td>\n",
              "      <td>bat</td>\n",
              "      <td>normal</td>\n",
              "      <td>0</td>\n",
              "      <td>Royal Challengers Bangalore</td>\n",
              "      <td>15</td>\n",
              "      <td>0</td>\n",
              "      <td>KM Jadhav</td>\n",
              "      <td>M Chinnaswamy Stadium</td>\n",
              "      <td>NaN</td>\n",
              "      <td>NaN</td>\n",
              "      <td>NaN</td>\n",
              "    </tr>\n",
              "  </tbody>\n",
              "</table>\n",
              "</div>"
            ],
            "text/plain": [
              "   id  season       city  ...         umpire1        umpire2 umpire3\n",
              "0   1    2017  Hyderabad  ...     AY Dandekar       NJ Llong     NaN\n",
              "1   2    2017       Pune  ...  A Nand Kishore         S Ravi     NaN\n",
              "2   3    2017     Rajkot  ...     Nitin Menon      CK Nandan     NaN\n",
              "3   4    2017     Indore  ...    AK Chaudhary  C Shamshuddin     NaN\n",
              "4   5    2017  Bangalore  ...             NaN            NaN     NaN\n",
              "\n",
              "[5 rows x 18 columns]"
            ]
          },
          "metadata": {},
          "execution_count": 5
        }
      ]
    },
    {
      "cell_type": "code",
      "metadata": {
        "colab": {
          "base_uri": "https://localhost:8080/"
        },
        "id": "0d4uBzhWaka2",
        "outputId": "e11bbc25-d200-4319-fd4a-b1980a0315ad"
      },
      "source": [
        "ipl.info()"
      ],
      "execution_count": 6,
      "outputs": [
        {
          "output_type": "stream",
          "name": "stdout",
          "text": [
            "<class 'pandas.core.frame.DataFrame'>\n",
            "RangeIndex: 756 entries, 0 to 755\n",
            "Data columns (total 18 columns):\n",
            " #   Column           Non-Null Count  Dtype \n",
            "---  ------           --------------  ----- \n",
            " 0   id               756 non-null    int64 \n",
            " 1   season           756 non-null    int64 \n",
            " 2   city             749 non-null    object\n",
            " 3   date             756 non-null    object\n",
            " 4   team1            756 non-null    object\n",
            " 5   team2            756 non-null    object\n",
            " 6   toss_winner      756 non-null    object\n",
            " 7   toss_decision    756 non-null    object\n",
            " 8   result           756 non-null    object\n",
            " 9   dl_applied       756 non-null    int64 \n",
            " 10  winner           752 non-null    object\n",
            " 11  win_by_runs      756 non-null    int64 \n",
            " 12  win_by_wickets   756 non-null    int64 \n",
            " 13  player_of_match  752 non-null    object\n",
            " 14  venue            756 non-null    object\n",
            " 15  umpire1          754 non-null    object\n",
            " 16  umpire2          754 non-null    object\n",
            " 17  umpire3          119 non-null    object\n",
            "dtypes: int64(5), object(13)\n",
            "memory usage: 106.4+ KB\n"
          ]
        }
      ]
    },
    {
      "cell_type": "code",
      "metadata": {
        "colab": {
          "base_uri": "https://localhost:8080/"
        },
        "id": "v5Cn0kT3arDS",
        "outputId": "35b264ba-aa46-4ba4-9ca4-6f38954a82b2"
      },
      "source": [
        "#number of rows and columns\n",
        "ipl.shape"
      ],
      "execution_count": 7,
      "outputs": [
        {
          "output_type": "execute_result",
          "data": {
            "text/plain": [
              "(756, 18)"
            ]
          },
          "metadata": {},
          "execution_count": 7
        }
      ]
    },
    {
      "cell_type": "code",
      "metadata": {
        "colab": {
          "base_uri": "https://localhost:8080/"
        },
        "id": "-5LeQ1pxuDz1",
        "outputId": "d29c2e92-fedc-4cfe-cf32-008df7673708"
      },
      "source": [
        "ipl.duplicated().value_counts()"
      ],
      "execution_count": 77,
      "outputs": [
        {
          "output_type": "execute_result",
          "data": {
            "text/plain": [
              "False    756\n",
              "dtype: int64"
            ]
          },
          "metadata": {},
          "execution_count": 77
        }
      ]
    },
    {
      "cell_type": "code",
      "metadata": {
        "colab": {
          "base_uri": "https://localhost:8080/"
        },
        "id": "-cY4a-4ZuLje",
        "outputId": "4627680d-8a16-41df-e172-1ce18817a0b2"
      },
      "source": [
        "ipl.isnull().sum()"
      ],
      "execution_count": 78,
      "outputs": [
        {
          "output_type": "execute_result",
          "data": {
            "text/plain": [
              "id                   0\n",
              "season               0\n",
              "city                 7\n",
              "date                 0\n",
              "team1                0\n",
              "team2                0\n",
              "toss_winner          0\n",
              "toss_decision        0\n",
              "result               0\n",
              "dl_applied           0\n",
              "winner               4\n",
              "win_by_runs          0\n",
              "win_by_wickets       0\n",
              "player_of_match      4\n",
              "venue                0\n",
              "umpire1              2\n",
              "umpire2              2\n",
              "umpire3            637\n",
              "dtype: int64"
            ]
          },
          "metadata": {},
          "execution_count": 78
        }
      ]
    },
    {
      "cell_type": "code",
      "metadata": {
        "id": "SJTCBmwEud3p"
      },
      "source": [
        "ipl.dropna(inplace=True)"
      ],
      "execution_count": 79,
      "outputs": []
    },
    {
      "cell_type": "code",
      "metadata": {
        "colab": {
          "base_uri": "https://localhost:8080/"
        },
        "id": "6mc8it5Zuicp",
        "outputId": "d539fa40-906e-4e9c-ec37-91da84028d3f"
      },
      "source": [
        "ipl.isnull().sum()"
      ],
      "execution_count": 80,
      "outputs": [
        {
          "output_type": "execute_result",
          "data": {
            "text/plain": [
              "id                 0\n",
              "season             0\n",
              "city               0\n",
              "date               0\n",
              "team1              0\n",
              "team2              0\n",
              "toss_winner        0\n",
              "toss_decision      0\n",
              "result             0\n",
              "dl_applied         0\n",
              "winner             0\n",
              "win_by_runs        0\n",
              "win_by_wickets     0\n",
              "player_of_match    0\n",
              "venue              0\n",
              "umpire1            0\n",
              "umpire2            0\n",
              "umpire3            0\n",
              "dtype: int64"
            ]
          },
          "metadata": {},
          "execution_count": 80
        }
      ]
    },
    {
      "cell_type": "code",
      "metadata": {
        "colab": {
          "base_uri": "https://localhost:8080/",
          "height": 202
        },
        "id": "45AYdMEFviwJ",
        "outputId": "6a413c72-6d4f-4de4-f0d4-1fb61ec19e1c"
      },
      "source": [
        "ipl.corr()"
      ],
      "execution_count": 89,
      "outputs": [
        {
          "output_type": "execute_result",
          "data": {
            "text/html": [
              "<div>\n",
              "<style scoped>\n",
              "    .dataframe tbody tr th:only-of-type {\n",
              "        vertical-align: middle;\n",
              "    }\n",
              "\n",
              "    .dataframe tbody tr th {\n",
              "        vertical-align: top;\n",
              "    }\n",
              "\n",
              "    .dataframe thead th {\n",
              "        text-align: right;\n",
              "    }\n",
              "</style>\n",
              "<table border=\"1\" class=\"dataframe\">\n",
              "  <thead>\n",
              "    <tr style=\"text-align: right;\">\n",
              "      <th></th>\n",
              "      <th>id</th>\n",
              "      <th>season</th>\n",
              "      <th>dl_applied</th>\n",
              "      <th>win_by_runs</th>\n",
              "      <th>win_by_wickets</th>\n",
              "    </tr>\n",
              "  </thead>\n",
              "  <tbody>\n",
              "    <tr>\n",
              "      <th>id</th>\n",
              "      <td>1.000000</td>\n",
              "      <td>0.999288</td>\n",
              "      <td>-0.159826</td>\n",
              "      <td>0.001860</td>\n",
              "      <td>0.056888</td>\n",
              "    </tr>\n",
              "    <tr>\n",
              "      <th>season</th>\n",
              "      <td>0.999288</td>\n",
              "      <td>1.000000</td>\n",
              "      <td>-0.158800</td>\n",
              "      <td>0.005130</td>\n",
              "      <td>0.054076</td>\n",
              "    </tr>\n",
              "    <tr>\n",
              "      <th>dl_applied</th>\n",
              "      <td>-0.159826</td>\n",
              "      <td>-0.158800</td>\n",
              "      <td>1.000000</td>\n",
              "      <td>-0.051445</td>\n",
              "      <td>-0.013603</td>\n",
              "    </tr>\n",
              "    <tr>\n",
              "      <th>win_by_runs</th>\n",
              "      <td>0.001860</td>\n",
              "      <td>0.005130</td>\n",
              "      <td>-0.051445</td>\n",
              "      <td>1.000000</td>\n",
              "      <td>-0.549351</td>\n",
              "    </tr>\n",
              "    <tr>\n",
              "      <th>win_by_wickets</th>\n",
              "      <td>0.056888</td>\n",
              "      <td>0.054076</td>\n",
              "      <td>-0.013603</td>\n",
              "      <td>-0.549351</td>\n",
              "      <td>1.000000</td>\n",
              "    </tr>\n",
              "  </tbody>\n",
              "</table>\n",
              "</div>"
            ],
            "text/plain": [
              "                      id    season  dl_applied  win_by_runs  win_by_wickets\n",
              "id              1.000000  0.999288   -0.159826     0.001860        0.056888\n",
              "season          0.999288  1.000000   -0.158800     0.005130        0.054076\n",
              "dl_applied     -0.159826 -0.158800    1.000000    -0.051445       -0.013603\n",
              "win_by_runs     0.001860  0.005130   -0.051445     1.000000       -0.549351\n",
              "win_by_wickets  0.056888  0.054076   -0.013603    -0.549351        1.000000"
            ]
          },
          "metadata": {},
          "execution_count": 89
        }
      ]
    },
    {
      "cell_type": "code",
      "metadata": {
        "colab": {
          "base_uri": "https://localhost:8080/",
          "height": 613
        },
        "id": "sfyREymBvvnQ",
        "outputId": "e907823b-ffaa-435d-ae56-cc51902fab6c"
      },
      "source": [
        "plt.figure(figsize=(15,10))\n",
        "sns.heatmap(ipl.corr(),annot=True, cmap=\"magma\")"
      ],
      "execution_count": 91,
      "outputs": [
        {
          "output_type": "execute_result",
          "data": {
            "text/plain": [
              "<matplotlib.axes._subplots.AxesSubplot at 0x7fcfa45af3d0>"
            ]
          },
          "metadata": {},
          "execution_count": 91
        },
        {
          "output_type": "display_data",
          "data": {
            "image/png": "[encoded data removed]",
            "text/plain": [
              "<Figure size 1080x720 with 2 Axes>"
            ]
          },
          "metadata": {
            "needs_background": "light"
          }
        }
      ]
    },
    {
      "cell_type": "code",
      "metadata": {
        "colab": {
          "base_uri": "https://localhost:8080/",
          "height": 202
        },
        "id": "6qrEiaMQwYil",
        "outputId": "db507f7f-9b5c-41a6-c376-97cd4d6d2434"
      },
      "source": [
        "ipl_corr_cnt = ipl.corr()[['season']].sort_values(by='season', ascending=False)\n",
        "ipl_corr_cnt"
      ],
      "execution_count": 99,
      "outputs": [
        {
          "output_type": "execute_result",
          "data": {
            "text/html": [
              "<div>\n",
              "<style scoped>\n",
              "    .dataframe tbody tr th:only-of-type {\n",
              "        vertical-align: middle;\n",
              "    }\n",
              "\n",
              "    .dataframe tbody tr th {\n",
              "        vertical-align: top;\n",
              "    }\n",
              "\n",
              "    .dataframe thead th {\n",
              "        text-align: right;\n",
              "    }\n",
              "</style>\n",
              "<table border=\"1\" class=\"dataframe\">\n",
              "  <thead>\n",
              "    <tr style=\"text-align: right;\">\n",
              "      <th></th>\n",
              "      <th>season</th>\n",
              "    </tr>\n",
              "  </thead>\n",
              "  <tbody>\n",
              "    <tr>\n",
              "      <th>season</th>\n",
              "      <td>1.000000</td>\n",
              "    </tr>\n",
              "    <tr>\n",
              "      <th>id</th>\n",
              "      <td>0.999288</td>\n",
              "    </tr>\n",
              "    <tr>\n",
              "      <th>win_by_wickets</th>\n",
              "      <td>0.054076</td>\n",
              "    </tr>\n",
              "    <tr>\n",
              "      <th>win_by_runs</th>\n",
              "      <td>0.005130</td>\n",
              "    </tr>\n",
              "    <tr>\n",
              "      <th>dl_applied</th>\n",
              "      <td>-0.158800</td>\n",
              "    </tr>\n",
              "  </tbody>\n",
              "</table>\n",
              "</div>"
            ],
            "text/plain": [
              "                  season\n",
              "season          1.000000\n",
              "id              0.999288\n",
              "win_by_wickets  0.054076\n",
              "win_by_runs     0.005130\n",
              "dl_applied     -0.158800"
            ]
          },
          "metadata": {},
          "execution_count": 99
        }
      ]
    },
    {
      "cell_type": "code",
      "metadata": {
        "colab": {
          "base_uri": "https://localhost:8080/",
          "height": 440
        },
        "id": "_Fo0UAXMup-z",
        "outputId": "e5348148-d300-4fb6-9604-af26fd93a190"
      },
      "source": [
        "plt.figure(figsize=(12,6))\n",
        "ax = sns.countplot(x='city',data=ipl)\n",
        "plt.xticks(rotation=45)\n",
        "for p in ax.patches:\n",
        "    ax.annotate((p.get_height()), (p.get_x()+0.2, p.get_height()+2));"
      ],
      "execution_count": 88,
      "outputs": [
        {
          "output_type": "display_data",
          "data": {
            "image/png": "[encoded data removed]",
            "text/plain": [
              "<Figure size 864x432 with 1 Axes>"
            ]
          },
          "metadata": {
            "needs_background": "light"
          }
        }
      ]
    },
    {
      "cell_type": "code",
      "metadata": {
        "colab": {
          "base_uri": "https://localhost:8080/"
        },
        "id": "NIDlSERFkQIF",
        "outputId": "5c42e679-ffff-478d-e4b2-b785465ccb85"
      },
      "source": [
        "#Getting the frequency of most man of the match awards\n",
        "ipl['player_of_match'].value_counts()\n",
        "ipl.player_of_match.value_counts()"
      ],
      "execution_count": 8,
      "outputs": [
        {
          "output_type": "execute_result",
          "data": {
            "text/plain": [
              "CH Gayle           21\n",
              "AB de Villiers     20\n",
              "MS Dhoni           17\n",
              "RG Sharma          17\n",
              "DA Warner          17\n",
              "                   ..\n",
              "AA Jhunjhunwala     1\n",
              "A Joseph            1\n",
              "CR Brathwaite       1\n",
              "MR Marsh            1\n",
              "MA Starc            1\n",
              "Name: player_of_match, Length: 226, dtype: int64"
            ]
          },
          "metadata": {},
          "execution_count": 8
        }
      ]
    },
    {
      "cell_type": "code",
      "metadata": {
        "colab": {
          "base_uri": "https://localhost:8080/"
        },
        "id": "dxSpy--SkXMb",
        "outputId": "5a2609e8-5c07-4ac2-dcab-65339ab37924"
      },
      "source": [
        "#Getting the top 10 players with most man of the match awards\n",
        "ipl.player_of_match.value_counts()[:10]"
      ],
      "execution_count": 9,
      "outputs": [
        {
          "output_type": "execute_result",
          "data": {
            "text/plain": [
              "CH Gayle          21\n",
              "AB de Villiers    20\n",
              "MS Dhoni          17\n",
              "RG Sharma         17\n",
              "DA Warner         17\n",
              "YK Pathan         16\n",
              "SR Watson         15\n",
              "SK Raina          14\n",
              "G Gambhir         13\n",
              "AM Rahane         12\n",
              "Name: player_of_match, dtype: int64"
            ]
          },
          "metadata": {},
          "execution_count": 9
        }
      ]
    },
    {
      "cell_type": "code",
      "metadata": {
        "colab": {
          "base_uri": "https://localhost:8080/"
        },
        "id": "Q9CQ4Imikbd5",
        "outputId": "05cfcab5-624c-4be4-defe-6314f295b74f"
      },
      "source": [
        "#Getting the top 5 players with most man of the match awards\n",
        "ipl['player_of_match'].value_counts()[0:5]\n"
      ],
      "execution_count": 20,
      "outputs": [
        {
          "output_type": "execute_result",
          "data": {
            "text/plain": [
              "CH Gayle          21\n",
              "AB de Villiers    20\n",
              "MS Dhoni          17\n",
              "RG Sharma         17\n",
              "DA Warner         17\n",
              "Name: player_of_match, dtype: int64"
            ]
          },
          "metadata": {},
          "execution_count": 20
        }
      ]
    },
    {
      "cell_type": "code",
      "metadata": {
        "colab": {
          "base_uri": "https://localhost:8080/",
          "height": 440
        },
        "id": "-lARzYd5lRfl",
        "outputId": "6cdc071f-efc8-414c-a9fc-d4167565e052"
      },
      "source": [
        "#making a bar-plot for the top 5 players with most man of the match awards\n",
        "plt.figure(figsize=(10,5))\n",
        "ax = sns.barplot(list(ipl['player_of_match'].value_counts()[0:5].keys()),list(ipl['player_of_match'].value_counts()[0:5]))\n",
        "plt.xticks(rotation=45);\n",
        "plt.title(\"top 5 players with most man of the match \", c=\"b\", fontsize=20)\n",
        "for p in ax.patches:\n",
        "    ax.annotate((p.get_height()), (p.get_x()+0.3, p.get_height()+0.2));\n",
        "plt.show();"
      ],
      "execution_count": 52,
      "outputs": [
        {
          "output_type": "stream",
          "name": "stderr",
          "text": [
            "/usr/local/lib/python3.7/dist-packages/seaborn/_decorators.py:43: FutureWarning: Pass the following variables as keyword args: x, y. From version 0.12, the only valid positional argument will be `data`, and passing other arguments without an explicit keyword will result in an error or misinterpretation.\n",
            "  FutureWarning\n"
          ]
        },
        {
          "output_type": "display_data",
          "data": {
            "image/png": "[encoded data removed]",
            "text/plain": [
              "<Figure size 720x360 with 1 Axes>"
            ]
          },
          "metadata": {
            "needs_background": "light"
          }
        }
      ]
    },
    {
      "cell_type": "code",
      "metadata": {
        "colab": {
          "base_uri": "https://localhost:8080/"
        },
        "id": "mMIw8LRhmMH4",
        "outputId": "d529ff0e-4de7-4282-c11c-e097c61d7328"
      },
      "source": [
        "#Getting the frequency of result column\n",
        "ipl['result'].value_counts()"
      ],
      "execution_count": 19,
      "outputs": [
        {
          "output_type": "execute_result",
          "data": {
            "text/plain": [
              "normal       743\n",
              "tie            9\n",
              "no result      4\n",
              "Name: result, dtype: int64"
            ]
          },
          "metadata": {},
          "execution_count": 19
        }
      ]
    },
    {
      "cell_type": "code",
      "metadata": {
        "colab": {
          "base_uri": "https://localhost:8080/"
        },
        "id": "QVPkrikCmTmY",
        "outputId": "f3f7caa8-8e61-4f3d-c931-399a20ce8549"
      },
      "source": [
        "ipl['toss_winner'].value_counts()"
      ],
      "execution_count": 22,
      "outputs": [
        {
          "output_type": "execute_result",
          "data": {
            "text/plain": [
              "Mumbai Indians                 98\n",
              "Kolkata Knight Riders          92\n",
              "Chennai Super Kings            89\n",
              "Kings XI Punjab                81\n",
              "Royal Challengers Bangalore    81\n",
              "Delhi Daredevils               80\n",
              "Rajasthan Royals               80\n",
              "Sunrisers Hyderabad            46\n",
              "Deccan Chargers                43\n",
              "Pune Warriors                  20\n",
              "Gujarat Lions                  15\n",
              "Delhi Capitals                 10\n",
              "Kochi Tuskers Kerala            8\n",
              "Rising Pune Supergiants         7\n",
              "Rising Pune Supergiant          6\n",
              "Name: toss_winner, dtype: int64"
            ]
          },
          "metadata": {},
          "execution_count": 22
        }
      ]
    },
    {
      "cell_type": "code",
      "metadata": {
        "id": "DFyuIppimuEu"
      },
      "source": [
        "#Extracting the records where a team won batting first\n",
        "batting_first=ipl[ipl['win_by_runs']!=0]"
      ],
      "execution_count": 23,
      "outputs": []
    },
    {
      "cell_type": "code",
      "metadata": {
        "colab": {
          "base_uri": "https://localhost:8080/",
          "height": 352
        },
        "id": "Gtq0BET_mvbP",
        "outputId": "dc75843e-9636-4b71-d76f-d251853bbe9a"
      },
      "source": [
        "batting_first.head()"
      ],
      "execution_count": 24,
      "outputs": [
        {
          "output_type": "execute_result",
          "data": {
            "text/html": [
              "<div>\n",
              "<style scoped>\n",
              "    .dataframe tbody tr th:only-of-type {\n",
              "        vertical-align: middle;\n",
              "    }\n",
              "\n",
              "    .dataframe tbody tr th {\n",
              "        vertical-align: top;\n",
              "    }\n",
              "\n",
              "    .dataframe thead th {\n",
              "        text-align: right;\n",
              "    }\n",
              "</style>\n",
              "<table border=\"1\" class=\"dataframe\">\n",
              "  <thead>\n",
              "    <tr style=\"text-align: right;\">\n",
              "      <th></th>\n",
              "      <th>id</th>\n",
              "      <th>season</th>\n",
              "      <th>city</th>\n",
              "      <th>date</th>\n",
              "      <th>team1</th>\n",
              "      <th>team2</th>\n",
              "      <th>toss_winner</th>\n",
              "      <th>toss_decision</th>\n",
              "      <th>result</th>\n",
              "      <th>dl_applied</th>\n",
              "      <th>winner</th>\n",
              "      <th>win_by_runs</th>\n",
              "      <th>win_by_wickets</th>\n",
              "      <th>player_of_match</th>\n",
              "      <th>venue</th>\n",
              "      <th>umpire1</th>\n",
              "      <th>umpire2</th>\n",
              "      <th>umpire3</th>\n",
              "    </tr>\n",
              "  </thead>\n",
              "  <tbody>\n",
              "    <tr>\n",
              "      <th>0</th>\n",
              "      <td>1</td>\n",
              "      <td>2017</td>\n",
              "      <td>Hyderabad</td>\n",
              "      <td>2017-04-05</td>\n",
              "      <td>Sunrisers Hyderabad</td>\n",
              "      <td>Royal Challengers Bangalore</td>\n",
              "      <td>Royal Challengers Bangalore</td>\n",
              "      <td>field</td>\n",
              "      <td>normal</td>\n",
              "      <td>0</td>\n",
              "      <td>Sunrisers Hyderabad</td>\n",
              "      <td>35</td>\n",
              "      <td>0</td>\n",
              "      <td>Yuvraj Singh</td>\n",
              "      <td>Rajiv Gandhi International Stadium, Uppal</td>\n",
              "      <td>AY Dandekar</td>\n",
              "      <td>NJ Llong</td>\n",
              "      <td>NaN</td>\n",
              "    </tr>\n",
              "    <tr>\n",
              "      <th>4</th>\n",
              "      <td>5</td>\n",
              "      <td>2017</td>\n",
              "      <td>Bangalore</td>\n",
              "      <td>2017-04-08</td>\n",
              "      <td>Royal Challengers Bangalore</td>\n",
              "      <td>Delhi Daredevils</td>\n",
              "      <td>Royal Challengers Bangalore</td>\n",
              "      <td>bat</td>\n",
              "      <td>normal</td>\n",
              "      <td>0</td>\n",
              "      <td>Royal Challengers Bangalore</td>\n",
              "      <td>15</td>\n",
              "      <td>0</td>\n",
              "      <td>KM Jadhav</td>\n",
              "      <td>M Chinnaswamy Stadium</td>\n",
              "      <td>NaN</td>\n",
              "      <td>NaN</td>\n",
              "      <td>NaN</td>\n",
              "    </tr>\n",
              "    <tr>\n",
              "      <th>8</th>\n",
              "      <td>9</td>\n",
              "      <td>2017</td>\n",
              "      <td>Pune</td>\n",
              "      <td>2017-04-11</td>\n",
              "      <td>Delhi Daredevils</td>\n",
              "      <td>Rising Pune Supergiant</td>\n",
              "      <td>Rising Pune Supergiant</td>\n",
              "      <td>field</td>\n",
              "      <td>normal</td>\n",
              "      <td>0</td>\n",
              "      <td>Delhi Daredevils</td>\n",
              "      <td>97</td>\n",
              "      <td>0</td>\n",
              "      <td>SV Samson</td>\n",
              "      <td>Maharashtra Cricket Association Stadium</td>\n",
              "      <td>AY Dandekar</td>\n",
              "      <td>S Ravi</td>\n",
              "      <td>NaN</td>\n",
              "    </tr>\n",
              "    <tr>\n",
              "      <th>13</th>\n",
              "      <td>14</td>\n",
              "      <td>2017</td>\n",
              "      <td>Kolkata</td>\n",
              "      <td>2017-04-15</td>\n",
              "      <td>Kolkata Knight Riders</td>\n",
              "      <td>Sunrisers Hyderabad</td>\n",
              "      <td>Sunrisers Hyderabad</td>\n",
              "      <td>field</td>\n",
              "      <td>normal</td>\n",
              "      <td>0</td>\n",
              "      <td>Kolkata Knight Riders</td>\n",
              "      <td>17</td>\n",
              "      <td>0</td>\n",
              "      <td>RV Uthappa</td>\n",
              "      <td>Eden Gardens</td>\n",
              "      <td>AY Dandekar</td>\n",
              "      <td>NJ Llong</td>\n",
              "      <td>NaN</td>\n",
              "    </tr>\n",
              "    <tr>\n",
              "      <th>14</th>\n",
              "      <td>15</td>\n",
              "      <td>2017</td>\n",
              "      <td>Delhi</td>\n",
              "      <td>2017-04-15</td>\n",
              "      <td>Delhi Daredevils</td>\n",
              "      <td>Kings XI Punjab</td>\n",
              "      <td>Delhi Daredevils</td>\n",
              "      <td>bat</td>\n",
              "      <td>normal</td>\n",
              "      <td>0</td>\n",
              "      <td>Delhi Daredevils</td>\n",
              "      <td>51</td>\n",
              "      <td>0</td>\n",
              "      <td>CJ Anderson</td>\n",
              "      <td>Feroz Shah Kotla</td>\n",
              "      <td>YC Barde</td>\n",
              "      <td>Nitin Menon</td>\n",
              "      <td>NaN</td>\n",
              "    </tr>\n",
              "  </tbody>\n",
              "</table>\n",
              "</div>"
            ],
            "text/plain": [
              "    id  season       city  ...      umpire1      umpire2 umpire3\n",
              "0    1    2017  Hyderabad  ...  AY Dandekar     NJ Llong     NaN\n",
              "4    5    2017  Bangalore  ...          NaN          NaN     NaN\n",
              "8    9    2017       Pune  ...  AY Dandekar       S Ravi     NaN\n",
              "13  14    2017    Kolkata  ...  AY Dandekar     NJ Llong     NaN\n",
              "14  15    2017      Delhi  ...     YC Barde  Nitin Menon     NaN\n",
              "\n",
              "[5 rows x 18 columns]"
            ]
          },
          "metadata": {},
          "execution_count": 24
        }
      ]
    },
    {
      "cell_type": "code",
      "metadata": {
        "colab": {
          "base_uri": "https://localhost:8080/",
          "height": 388
        },
        "id": "Ze49pSB3mxeN",
        "outputId": "0a8aa028-3956-4e98-b055-c8d95a893c47"
      },
      "source": [
        "#making a histogram\n",
        "plt.figure(figsize=(10,6))\n",
        "sns.histplot(batting_first.win_by_runs)\n",
        "plt.show()"
      ],
      "execution_count": 39,
      "outputs": [
        {
          "output_type": "display_data",
          "data": {
            "image/png": "[encoded data removed]",
            "text/plain": [
              "<Figure size 720x432 with 1 Axes>"
            ]
          },
          "metadata": {
            "needs_background": "light"
          }
        }
      ]
    },
    {
      "cell_type": "code",
      "metadata": {
        "colab": {
          "base_uri": "https://localhost:8080/"
        },
        "id": "6EbUvbexnOf4",
        "outputId": "4983b85d-f1ec-41ae-cd42-f9b9e5d7bfa9"
      },
      "source": [
        "#Finding out the number of wins w.r.t each team after batting first\n",
        "batting_first['winner'].value_counts()"
      ],
      "execution_count": 40,
      "outputs": [
        {
          "output_type": "execute_result",
          "data": {
            "text/plain": [
              "Mumbai Indians                 57\n",
              "Chennai Super Kings            52\n",
              "Kings XI Punjab                38\n",
              "Kolkata Knight Riders          36\n",
              "Royal Challengers Bangalore    35\n",
              "Sunrisers Hyderabad            30\n",
              "Rajasthan Royals               27\n",
              "Delhi Daredevils               25\n",
              "Deccan Chargers                18\n",
              "Pune Warriors                   6\n",
              "Rising Pune Supergiant          5\n",
              "Delhi Capitals                  3\n",
              "Rising Pune Supergiants         2\n",
              "Kochi Tuskers Kerala            2\n",
              "Gujarat Lions                   1\n",
              "Name: winner, dtype: int64"
            ]
          },
          "metadata": {},
          "execution_count": 40
        }
      ]
    },
    {
      "cell_type": "code",
      "metadata": {
        "colab": {
          "base_uri": "https://localhost:8080/",
          "height": 483
        },
        "id": "JGEuNpeLph3b",
        "outputId": "b93beb0f-c105-427c-8c8e-880c1a974d4a"
      },
      "source": [
        "#Making a bar-plot for top 3 teams with most wins after batting first\n",
        "plt.figure(figsize=(7,7))\n",
        "ax = sns.barplot(list(batting_first['winner'].value_counts()[0:3].keys()),list(batting_first['winner'].value_counts()[0:3]))\n",
        "for p in ax.patches:\n",
        "    ax.annotate((p.get_height()), (p.get_x()+0.3, p.get_height()+1));\n",
        "plt.show()"
      ],
      "execution_count": 49,
      "outputs": [
        {
          "output_type": "stream",
          "name": "stderr",
          "text": [
            "/usr/local/lib/python3.7/dist-packages/seaborn/_decorators.py:43: FutureWarning: Pass the following variables as keyword args: x, y. From version 0.12, the only valid positional argument will be `data`, and passing other arguments without an explicit keyword will result in an error or misinterpretation.\n",
            "  FutureWarning\n"
          ]
        },
        {
          "output_type": "display_data",
          "data": {
            "image/png": "[encoded data removed]",
            "text/plain": [
              "<Figure size 504x504 with 1 Axes>"
            ]
          },
          "metadata": {
            "needs_background": "light"
          }
        }
      ]
    },
    {
      "cell_type": "code",
      "metadata": {
        "colab": {
          "base_uri": "https://localhost:8080/",
          "height": 411
        },
        "id": "w0AxRnCeqtf5",
        "outputId": "fd8f34ce-9150-4576-fb5c-2691c772140a"
      },
      "source": [
        "#Making a pie chart\n",
        "plt.figure(figsize=(7,7))\n",
        "plt.pie(list(batting_first['winner'][0:5].value_counts()),labels=list(batting_first['winner'][0:5].value_counts().keys()),autopct='%0.1f%%')\n",
        "plt.show()\n",
        "\n"
      ],
      "execution_count": 61,
      "outputs": [
        {
          "output_type": "display_data",
          "data": {
            "image/png": "[encoded data removed]",
            "text/plain": [
              "<Figure size 504x504 with 1 Axes>"
            ]
          },
          "metadata": {}
        }
      ]
    },
    {
      "cell_type": "code",
      "metadata": {
        "id": "lqVbatJjrPKW"
      },
      "source": [
        "#extracting those records where a team has won after batting second\n",
        "batting_second=ipl[ipl['win_by_wickets']!=0]"
      ],
      "execution_count": 55,
      "outputs": []
    },
    {
      "cell_type": "code",
      "metadata": {
        "colab": {
          "base_uri": "https://localhost:8080/",
          "height": 385
        },
        "id": "nof6ZQbBrQ0X",
        "outputId": "ae165696-82ab-4833-db32-7a2c479be7e3"
      },
      "source": [
        "batting_second.head()"
      ],
      "execution_count": 56,
      "outputs": [
        {
          "output_type": "execute_result",
          "data": {
            "text/html": [
              "<div>\n",
              "<style scoped>\n",
              "    .dataframe tbody tr th:only-of-type {\n",
              "        vertical-align: middle;\n",
              "    }\n",
              "\n",
              "    .dataframe tbody tr th {\n",
              "        vertical-align: top;\n",
              "    }\n",
              "\n",
              "    .dataframe thead th {\n",
              "        text-align: right;\n",
              "    }\n",
              "</style>\n",
              "<table border=\"1\" class=\"dataframe\">\n",
              "  <thead>\n",
              "    <tr style=\"text-align: right;\">\n",
              "      <th></th>\n",
              "      <th>id</th>\n",
              "      <th>season</th>\n",
              "      <th>city</th>\n",
              "      <th>date</th>\n",
              "      <th>team1</th>\n",
              "      <th>team2</th>\n",
              "      <th>toss_winner</th>\n",
              "      <th>toss_decision</th>\n",
              "      <th>result</th>\n",
              "      <th>dl_applied</th>\n",
              "      <th>winner</th>\n",
              "      <th>win_by_runs</th>\n",
              "      <th>win_by_wickets</th>\n",
              "      <th>player_of_match</th>\n",
              "      <th>venue</th>\n",
              "      <th>umpire1</th>\n",
              "      <th>umpire2</th>\n",
              "      <th>umpire3</th>\n",
              "    </tr>\n",
              "  </thead>\n",
              "  <tbody>\n",
              "    <tr>\n",
              "      <th>1</th>\n",
              "      <td>2</td>\n",
              "      <td>2017</td>\n",
              "      <td>Pune</td>\n",
              "      <td>2017-04-06</td>\n",
              "      <td>Mumbai Indians</td>\n",
              "      <td>Rising Pune Supergiant</td>\n",
              "      <td>Rising Pune Supergiant</td>\n",
              "      <td>field</td>\n",
              "      <td>normal</td>\n",
              "      <td>0</td>\n",
              "      <td>Rising Pune Supergiant</td>\n",
              "      <td>0</td>\n",
              "      <td>7</td>\n",
              "      <td>SPD Smith</td>\n",
              "      <td>Maharashtra Cricket Association Stadium</td>\n",
              "      <td>A Nand Kishore</td>\n",
              "      <td>S Ravi</td>\n",
              "      <td>NaN</td>\n",
              "    </tr>\n",
              "    <tr>\n",
              "      <th>2</th>\n",
              "      <td>3</td>\n",
              "      <td>2017</td>\n",
              "      <td>Rajkot</td>\n",
              "      <td>2017-04-07</td>\n",
              "      <td>Gujarat Lions</td>\n",
              "      <td>Kolkata Knight Riders</td>\n",
              "      <td>Kolkata Knight Riders</td>\n",
              "      <td>field</td>\n",
              "      <td>normal</td>\n",
              "      <td>0</td>\n",
              "      <td>Kolkata Knight Riders</td>\n",
              "      <td>0</td>\n",
              "      <td>10</td>\n",
              "      <td>CA Lynn</td>\n",
              "      <td>Saurashtra Cricket Association Stadium</td>\n",
              "      <td>Nitin Menon</td>\n",
              "      <td>CK Nandan</td>\n",
              "      <td>NaN</td>\n",
              "    </tr>\n",
              "    <tr>\n",
              "      <th>3</th>\n",
              "      <td>4</td>\n",
              "      <td>2017</td>\n",
              "      <td>Indore</td>\n",
              "      <td>2017-04-08</td>\n",
              "      <td>Rising Pune Supergiant</td>\n",
              "      <td>Kings XI Punjab</td>\n",
              "      <td>Kings XI Punjab</td>\n",
              "      <td>field</td>\n",
              "      <td>normal</td>\n",
              "      <td>0</td>\n",
              "      <td>Kings XI Punjab</td>\n",
              "      <td>0</td>\n",
              "      <td>6</td>\n",
              "      <td>GJ Maxwell</td>\n",
              "      <td>Holkar Cricket Stadium</td>\n",
              "      <td>AK Chaudhary</td>\n",
              "      <td>C Shamshuddin</td>\n",
              "      <td>NaN</td>\n",
              "    </tr>\n",
              "    <tr>\n",
              "      <th>5</th>\n",
              "      <td>6</td>\n",
              "      <td>2017</td>\n",
              "      <td>Hyderabad</td>\n",
              "      <td>2017-04-09</td>\n",
              "      <td>Gujarat Lions</td>\n",
              "      <td>Sunrisers Hyderabad</td>\n",
              "      <td>Sunrisers Hyderabad</td>\n",
              "      <td>field</td>\n",
              "      <td>normal</td>\n",
              "      <td>0</td>\n",
              "      <td>Sunrisers Hyderabad</td>\n",
              "      <td>0</td>\n",
              "      <td>9</td>\n",
              "      <td>Rashid Khan</td>\n",
              "      <td>Rajiv Gandhi International Stadium, Uppal</td>\n",
              "      <td>A Deshmukh</td>\n",
              "      <td>NJ Llong</td>\n",
              "      <td>NaN</td>\n",
              "    </tr>\n",
              "    <tr>\n",
              "      <th>6</th>\n",
              "      <td>7</td>\n",
              "      <td>2017</td>\n",
              "      <td>Mumbai</td>\n",
              "      <td>2017-04-09</td>\n",
              "      <td>Kolkata Knight Riders</td>\n",
              "      <td>Mumbai Indians</td>\n",
              "      <td>Mumbai Indians</td>\n",
              "      <td>field</td>\n",
              "      <td>normal</td>\n",
              "      <td>0</td>\n",
              "      <td>Mumbai Indians</td>\n",
              "      <td>0</td>\n",
              "      <td>4</td>\n",
              "      <td>N Rana</td>\n",
              "      <td>Wankhede Stadium</td>\n",
              "      <td>Nitin Menon</td>\n",
              "      <td>CK Nandan</td>\n",
              "      <td>NaN</td>\n",
              "    </tr>\n",
              "  </tbody>\n",
              "</table>\n",
              "</div>"
            ],
            "text/plain": [
              "   id  season       city  ...         umpire1        umpire2 umpire3\n",
              "1   2    2017       Pune  ...  A Nand Kishore         S Ravi     NaN\n",
              "2   3    2017     Rajkot  ...     Nitin Menon      CK Nandan     NaN\n",
              "3   4    2017     Indore  ...    AK Chaudhary  C Shamshuddin     NaN\n",
              "5   6    2017  Hyderabad  ...      A Deshmukh       NJ Llong     NaN\n",
              "6   7    2017     Mumbai  ...     Nitin Menon      CK Nandan     NaN\n",
              "\n",
              "[5 rows x 18 columns]"
            ]
          },
          "metadata": {},
          "execution_count": 56
        }
      ]
    },
    {
      "cell_type": "code",
      "metadata": {
        "colab": {
          "base_uri": "https://localhost:8080/",
          "height": 443
        },
        "id": "r1WEzL0NrR6O",
        "outputId": "78867320-4edf-4486-c0db-f411812da5d6"
      },
      "source": [
        "#Making a histogram for frequency of wins w.r.t number of wickets\n",
        "plt.figure(figsize=(7,7))\n",
        "sns.histplot(batting_second['win_by_wickets'],bins=30)\n",
        "plt.show()"
      ],
      "execution_count": 57,
      "outputs": [
        {
          "output_type": "display_data",
          "data": {
            "image/png": "[encoded data removed]",
            "text/plain": [
              "<Figure size 504x504 with 1 Axes>"
            ]
          },
          "metadata": {
            "needs_background": "light"
          }
        }
      ]
    },
    {
      "cell_type": "code",
      "metadata": {
        "colab": {
          "base_uri": "https://localhost:8080/"
        },
        "id": "z6YomwOCrd2K",
        "outputId": "429fffe8-d6ac-4da0-9a60-71966a42313d"
      },
      "source": [
        "batting_second['winner'].value_counts()"
      ],
      "execution_count": 58,
      "outputs": [
        {
          "output_type": "execute_result",
          "data": {
            "text/plain": [
              "Kolkata Knight Riders          56\n",
              "Mumbai Indians                 50\n",
              "Chennai Super Kings            48\n",
              "Royal Challengers Bangalore    48\n",
              "Rajasthan Royals               46\n",
              "Kings XI Punjab                42\n",
              "Delhi Daredevils               42\n",
              "Sunrisers Hyderabad            27\n",
              "Gujarat Lions                  12\n",
              "Deccan Chargers                11\n",
              "Delhi Capitals                  6\n",
              "Pune Warriors                   6\n",
              "Rising Pune Supergiant          5\n",
              "Kochi Tuskers Kerala            4\n",
              "Rising Pune Supergiants         3\n",
              "Name: winner, dtype: int64"
            ]
          },
          "metadata": {},
          "execution_count": 58
        }
      ]
    },
    {
      "cell_type": "code",
      "metadata": {
        "colab": {
          "base_uri": "https://localhost:8080/",
          "height": 600
        },
        "id": "HJV65z3DrxIP",
        "outputId": "d0a84158-3fb1-41dd-a2c4-f9659c9155d3"
      },
      "source": [
        "##Making a bar plot for top-5 teams with most wins after batting second\n",
        "plt.figure(figsize=(10,7))\n",
        "ax = sns.barplot(list(batting_second['winner'].value_counts()[0:5].keys()),list(batting_second['winner'].value_counts()[0:5]))\n",
        "for p in ax.patches:\n",
        "    ax.annotate((p.get_height()), (p.get_x()+0.3, p.get_height()+1))\n",
        "plt.xticks(rotation=45);\n",
        "plt.title(\"top-3 teams with most wins after batting second\", c=\"b\", fontsize=15)\n",
        "plt.show()"
      ],
      "execution_count": 68,
      "outputs": [
        {
          "output_type": "stream",
          "name": "stderr",
          "text": [
            "/usr/local/lib/python3.7/dist-packages/seaborn/_decorators.py:43: FutureWarning: Pass the following variables as keyword args: x, y. From version 0.12, the only valid positional argument will be `data`, and passing other arguments without an explicit keyword will result in an error or misinterpretation.\n",
            "  FutureWarning\n"
          ]
        },
        {
          "output_type": "display_data",
          "data": {
            "image/png": "[encoded data removed]",
            "text/plain": [
              "<Figure size 720x504 with 1 Axes>"
            ]
          },
          "metadata": {
            "needs_background": "light"
          }
        }
      ]
    },
    {
      "cell_type": "code",
      "metadata": {
        "colab": {
          "base_uri": "https://localhost:8080/",
          "height": 411
        },
        "id": "H7RoudcOr7H7",
        "outputId": "1b61f541-fde1-410a-f2bc-3591bdd318be"
      },
      "source": [
        "plt.figure(figsize=(7,7))\n",
        "plt.pie(list(batting_second['winner'][:5].value_counts()),labels=list(batting_second['winner'][:5].value_counts().keys()),autopct='%0.1f%%')\n",
        "plt.show()"
      ],
      "execution_count": 69,
      "outputs": [
        {
          "output_type": "display_data",
          "data": {
            "image/png": "[encoded data removed]",
            "text/plain": [
              "<Figure size 504x504 with 1 Axes>"
            ]
          },
          "metadata": {}
        }
      ]
    },
    {
      "cell_type": "code",
      "metadata": {
        "colab": {
          "base_uri": "https://localhost:8080/"
        },
        "id": "Mk8IDCR9sbhK",
        "outputId": "05a1fc84-e25f-4480-dd05-a8c96290ae6b"
      },
      "source": [
        "#Looking at the number of matches played each season\n",
        "ipl['season'].value_counts()"
      ],
      "execution_count": 70,
      "outputs": [
        {
          "output_type": "execute_result",
          "data": {
            "text/plain": [
              "2013    76\n",
              "2012    74\n",
              "2011    73\n",
              "2019    60\n",
              "2018    60\n",
              "2016    60\n",
              "2014    60\n",
              "2010    60\n",
              "2017    59\n",
              "2015    59\n",
              "2008    58\n",
              "2009    57\n",
              "Name: season, dtype: int64"
            ]
          },
          "metadata": {},
          "execution_count": 70
        }
      ]
    },
    {
      "cell_type": "code",
      "metadata": {
        "colab": {
          "base_uri": "https://localhost:8080/",
          "height": 516
        },
        "id": "azWZxconsk_m",
        "outputId": "517869be-4b78-4c78-934a-b02f39233a24"
      },
      "source": [
        "##Making a bar plot for matches played each season\n",
        "plt.figure(figsize=(10,7))\n",
        "ax = sns.barplot(list(ipl['season'].value_counts()[:].keys()),list(ipl['season'].value_counts()[:]))\n",
        "for p in ax.patches:\n",
        "    ax.annotate((p.get_height()), (p.get_x()+0.3, p.get_height()+1))\n",
        "plt.xticks(rotation=45);\n",
        "plt.title(\"matches played each season\", c=\"b\", fontsize=15)\n",
        "plt.show()"
      ],
      "execution_count": 75,
      "outputs": [
        {
          "output_type": "stream",
          "name": "stderr",
          "text": [
            "/usr/local/lib/python3.7/dist-packages/seaborn/_decorators.py:43: FutureWarning: Pass the following variables as keyword args: x, y. From version 0.12, the only valid positional argument will be `data`, and passing other arguments without an explicit keyword will result in an error or misinterpretation.\n",
            "  FutureWarning\n"
          ]
        },
        {
          "output_type": "display_data",
          "data": {
            "image/png": "[encoded data removed]",
            "text/plain": [
              "<Figure size 720x504 with 1 Axes>"
            ]
          },
          "metadata": {
            "needs_background": "light"
          }
        }
      ]
    },
    {
      "cell_type": "code",
      "metadata": {
        "colab": {
          "base_uri": "https://localhost:8080/"
        },
        "id": "LmIikhtBtGWq",
        "outputId": "13adb2b7-46a5-4e21-a842-9f4cfb5256a1"
      },
      "source": [
        "#Finding out how many times a team has won the match after winning the toss\n",
        "np.sum(ipl['toss_winner']==ipl['winner'])"
      ],
      "execution_count": 76,
      "outputs": [
        {
          "output_type": "execute_result",
          "data": {
            "text/plain": [
              "393"
            ]
          },
          "metadata": {},
          "execution_count": 76
        }
      ]
    }
  ]
}